{
 "cells": [
  {
   "cell_type": "markdown",
   "metadata": {},
   "source": [
    "# OS APPs MAIS RENTÁVEIS NA APP STORE E GOOGLE PLAY\n",
    "\n",
    "**PROJETO PARA PORTFOLIO EM CIÊNCIA DE DADOS**\n",
    "\n",
    "*Supondo que trabalho em uma empresa que desenvolve apps gratuitos que lucram com propagandas, meu objetivo é analisar dados para ajudar os desenvolvedores a compreender qual o tipo de aplicativo atrai mais usuários.*\n",
    "\n"
   ]
  },
  {
   "cell_type": "markdown",
   "metadata": {},
   "source": [
    "**BANCO DE DADOS**\n",
    "\n",
    "*para efeitos de estudo seria muito custoso analisar mais de 4milhões de apps, sendo assim, optei por trabalhar com dois bancos de dados menores*:\n",
    "- 10.000 aplicações Android na Google Play (dados coletados em 08/2018);\n",
    "https://www.kaggle.com/lava18/google-play-store-apps\n",
    "\n",
    "- 7.000 aplicações iOS na App Store (dados coletados em 07/2017); \n",
    "https://www.kaggle.com/ramamet4/app-store-apple-data-set-10k-apps\n"
   ]
  },
  {
   "cell_type": "markdown",
   "metadata": {},
   "source": [
    "**PASSO A PASSO**\n",
    " 1. **abrir os dados** em uma lista de listas separando o cabeçalho das demais linhas:"
   ]
  },
  {
   "cell_type": "code",
   "execution_count": 1,
   "metadata": {},
   "outputs": [],
   "source": [
    "from csv import reader\n",
    "\n",
    "#google play\n",
    "aberto = open('googleplaystore.csv')\n",
    "ler = reader(aberto)\n",
    "android = list(ler)\n",
    "android_header = android[0]\n",
    "android_corpo = android[1:]\n",
    "\n",
    "#app store\n",
    "aberto  = open('AppleStore.csv')\n",
    "ler = reader(aberto)\n",
    "ios = list(ler)\n",
    "ios_header = ios[0]\n",
    "ios_corpo = ios[1:]\n"
   ]
  },
  {
   "cell_type": "markdown",
   "metadata": {},
   "source": [
    "2. crio uma função para **explorar os dados** possibilitando a impressão de linhas e colunas específicas e para descobrir o número de linhas e colunas de cada uma:"
   ]
  },
  {
   "cell_type": "code",
   "execution_count": 2,
   "metadata": {},
   "outputs": [],
   "source": [
    "def explora_dados(dados, inicio, fim, linhas_colunas = False):\n",
    "    dados_corte = dados[inicio:fim]\n",
    "    for linha in dados_corte:\n",
    "        print(linha)\n",
    "        print('\\n')\n",
    "        \n",
    "    if linhas_colunas:\n",
    "        print('num de linhas:', len(dados))\n",
    "        print('num de colunas', len(dados[0]))\n"
   ]
  },
  {
   "cell_type": "code",
   "execution_count": 3,
   "metadata": {},
   "outputs": [
    {
     "name": "stdout",
     "output_type": "stream",
     "text": [
      "['U Launcher Lite – FREE Live Cool Themes, Hide Apps', 'ART_AND_DESIGN', '4.7', '87510', '8.7M', '5,000,000+', 'Free', '0', 'Everyone', 'Art & Design', 'August 1, 2018', '1.2.4', '4.0.3 and up']\n",
      "\n",
      "\n",
      "['Sketch - Draw & Paint', 'ART_AND_DESIGN', '4.5', '215644', '25M', '50,000,000+', 'Free', '0', 'Teen', 'Art & Design', 'June 8, 2018', 'Varies with device', '4.2 and up']\n",
      "\n",
      "\n",
      "['Pixel Draw - Number Art Coloring Book', 'ART_AND_DESIGN', '4.3', '967', '2.8M', '100,000+', 'Free', '0', 'Everyone', 'Art & Design;Creativity', 'June 20, 2018', '1.1', '4.4 and up']\n",
      "\n",
      "\n",
      "num de linhas: 10841\n",
      "num de colunas 13\n",
      "None\n",
      "\n",
      "\n",
      "['App', 'Category', 'Rating', 'Reviews', 'Size', 'Installs', 'Type', 'Price', 'Content Rating', 'Genres', 'Last Updated', 'Current Ver', 'Android Ver']\n"
     ]
    }
   ],
   "source": [
    "teste = explora_dados(android_corpo, 2, 5, True)\n",
    "print(teste)\n",
    "print('\\n')\n",
    "print(android_header)\n"
   ]
  },
  {
   "cell_type": "markdown",
   "metadata": {},
   "source": [
    "3.\t**limpar os dados**: deletar o que não for relevante no meu escopo, como apps pagos ou em língua não inglesa.\n",
    "\n",
    "3.1. *remover apps sem alguns parâmetros*:  "
   ]
  },
  {
   "cell_type": "code",
   "execution_count": 4,
   "metadata": {},
   "outputs": [
    {
     "name": "stdout",
     "output_type": "stream",
     "text": [
      "['Life Made WI-Fi Touchscreen Photo Frame', '1.9', '19', '3.0M', '1,000+', 'Free', '0', 'Everyone', '', 'February 11, 2018', '1.0.19', '4.0 and up']\n"
     ]
    }
   ],
   "source": [
    "#data cleaning\n",
    "print(android_corpo[10472])\n",
    "# linha não tem categoria"
   ]
  },
  {
   "cell_type": "code",
   "execution_count": 5,
   "metadata": {},
   "outputs": [
    {
     "name": "stdout",
     "output_type": "stream",
     "text": [
      "10841\n",
      "10840\n"
     ]
    }
   ],
   "source": [
    "print(len(android_corpo))\n",
    "del android_corpo[10472]\n",
    "print(len(android_corpo))"
   ]
  },
  {
   "cell_type": "markdown",
   "metadata": {},
   "source": [
    "3.2 *remover apps em duplicidade*:\n",
    "\n",
    "*obs*: esse paço não é realizado com ios pois sua lista não tem duplicidade, para verificação basta chegar a coluna 'id' na lista ios_header.\n",
    "\n"
   ]
  },
  {
   "cell_type": "code",
   "execution_count": 6,
   "metadata": {},
   "outputs": [
    {
     "name": "stdout",
     "output_type": "stream",
     "text": [
      "1181\n"
     ]
    }
   ],
   "source": [
    "unicos = []\n",
    "duplicados = []\n",
    "\n",
    "for app in android_corpo:\n",
    "    nome = app[0]\n",
    "    if nome in unicos:\n",
    "        duplicados.append(nome)\n",
    "    else:\n",
    "        unicos.append(nome)\n",
    "\n",
    "print(len(duplicados))\n"
   ]
  },
  {
   "cell_type": "markdown",
   "metadata": {},
   "source": [
    "para remover os apps em duplicidade verifiquei qual teria o maior valor de reviews, tendo em vista que essa seria a versão de dados mais atual. "
   ]
  },
  {
   "cell_type": "code",
   "execution_count": 7,
   "metadata": {},
   "outputs": [
    {
     "name": "stdout",
     "output_type": "stream",
     "text": [
      "9659\n",
      "9659\n"
     ]
    }
   ],
   "source": [
    "reviews_max = {}\n",
    "\n",
    "for app in android_corpo:\n",
    "    nome = app[0]\n",
    "    reviews = float(app[3])\n",
    "    if nome in reviews_max and reviews_max[nome] < reviews:\n",
    "        reviews_max[nome] = reviews\n",
    "    elif nome not in reviews_max:\n",
    "        reviews_max[nome] = reviews\n",
    "\n",
    "# verificação da limpeza esperada x limpeza feita\n",
    "print(len(android_corpo) - 1181)  \n",
    "print(len(reviews_max))    "
   ]
  },
  {
   "cell_type": "markdown",
   "metadata": {},
   "source": [
    "usando o dicionário acima para remover os app duplicados, criei uma nova lista limpa e outra com os nomes já adicionados:"
   ]
  },
  {
   "cell_type": "code",
   "execution_count": 8,
   "metadata": {},
   "outputs": [
    {
     "name": "stdout",
     "output_type": "stream",
     "text": [
      "['Photo Editor & Candy Camera & Grid & ScrapBook', 'ART_AND_DESIGN', '4.1', '159', '19M', '10,000+', 'Free', '0', 'Everyone', 'Art & Design', 'January 7, 2018', '1.0.0', '4.0.3 and up']\n",
      "\n",
      "\n",
      "['U Launcher Lite – FREE Live Cool Themes, Hide Apps', 'ART_AND_DESIGN', '4.7', '87510', '8.7M', '5,000,000+', 'Free', '0', 'Everyone', 'Art & Design', 'August 1, 2018', '1.2.4', '4.0.3 and up']\n",
      "\n",
      "\n",
      "num de linhas: 9659\n",
      "num de colunas 13\n",
      "None\n"
     ]
    }
   ],
   "source": [
    "android_limpa = []\n",
    "jadd = []\n",
    "\n",
    "for app in android_corpo:\n",
    "    nome = app[0]\n",
    "    reviews = float(app[3])\n",
    "    if reviews_max[nome] == reviews and nome not in jadd:\n",
    "        android_limpa.append(app)\n",
    "        jadd.append(nome)\n",
    "    \n",
    "#teste de limpeza esperada = 9659\n",
    "print(explora_dados(android_limpa, 0, 2, True))\n",
    "    "
   ]
  },
  {
   "cell_type": "markdown",
   "metadata": {},
   "source": [
    "3.3 *remover apps de língua não inglesa*:\n",
    "- encontrar os apps cujo nome contenha caracteres que não são letras do alfabeto Inglês (a - z), números (0 - 9), pontuações (., !, ?, ;) e outros simbolos (+, *, /).\n",
    "- para isso utilizei a função built-in ord() que disponibiliza um número de codificação correspondente a cada caractere. \n",
    "- os caracteres mais comuns do Inglês estão no range de 0 - 127 de acordo com a ASCII \n",
    "- como existem apps que contém caracteres acima de 127 e mesmo assim são de língua inglesa, como 'Instachat 😜' ou 'Docs To Go™ Free Office Suite', optei deletar os que teriam mais de 3 caracteres acima de 127."
   ]
  },
  {
   "cell_type": "code",
   "execution_count": 9,
   "metadata": {},
   "outputs": [
    {
     "name": "stdout",
     "output_type": "stream",
     "text": [
      "True\n",
      "False\n",
      "True\n",
      "True\n"
     ]
    }
   ],
   "source": [
    "def ingles(string):\n",
    "    non_ascii = 0\n",
    "    \n",
    "    for caractere in string:\n",
    "        if ord(caractere) > 127:\n",
    "            non_ascii += 1\n",
    "    \n",
    "    if non_ascii > 3:\n",
    "        return False\n",
    "    else:\n",
    "        return True\n",
    "\n",
    "#teste\n",
    "print(ingles('teste'))\n",
    "print(ingles('ブロックパズ'))\n",
    "print(ingles('Instachat 😜'))\n",
    "print(ingles('Docs To Go™ Free Office Suite'))"
   ]
  },
  {
   "cell_type": "code",
   "execution_count": 10,
   "metadata": {},
   "outputs": [
    {
     "name": "stdout",
     "output_type": "stream",
     "text": [
      "9614\n",
      "6183\n"
     ]
    }
   ],
   "source": [
    "#nova lista de apps apenas na língua inglesa\n",
    "android_ingles = []\n",
    "ios_ingles = []\n",
    "\n",
    "for app in android_limpa:\n",
    "    nome = app[0]\n",
    "    if ingles(nome) is True:\n",
    "        android_ingles.append(app)\n",
    "        \n",
    "for app in ios_corpo:\n",
    "    nome = app[1]\n",
    "    if ingles(nome) is True:\n",
    "        ios_ingles.append(app)\n",
    "\n",
    "#numero de apps em inglês:\n",
    "print(len(android_ingles))\n",
    "print(len(ios_ingles))\n",
    "        "
   ]
  },
  {
   "cell_type": "markdown",
   "metadata": {},
   "source": [
    "3.4 *remover apps pagos* "
   ]
  },
  {
   "cell_type": "code",
   "execution_count": 11,
   "metadata": {},
   "outputs": [
    {
     "name": "stdout",
     "output_type": "stream",
     "text": [
      "8864\n",
      "3222\n"
     ]
    }
   ],
   "source": [
    "android_gratuito = []\n",
    "ios_gratuito = []\n",
    "\n",
    "for app in android_ingles:\n",
    "    valor = app[7]\n",
    "    if valor == '0':\n",
    "        android_gratuito.append(app)\n",
    "        \n",
    "for app in ios_ingles:\n",
    "    valor = app[4]\n",
    "    if valor == '0.0':\n",
    "        ios_gratuito.append(app)\n",
    "\n",
    "#quantidade de apps gratuitos em casa plataforma\n",
    "print(len(android_gratuito))\n",
    "print(len(ios_gratuito))"
   ]
  },
  {
   "cell_type": "markdown",
   "metadata": {},
   "source": [
    "4. **análise**:\n",
    "\n",
    "o objetivo final é lançar a aplicação no Google Play e na App Store, portanto é preciso encontrar perfis de aplicativos que tenham sucesso em ambos os mercados.\n",
    "\n",
    "4.1 *gêneros mais comuns em cada mercado*:\n",
    "\n",
    "4.1.1 dentro da função \"tabelafreq\" preciso contar quantas vezes cada gênero aparece em casa lista de apps. para isso, crio um dicionário com os gênreos e sua respectiva frequência, a qual será posteriormente transformada em porcentagem.  "
   ]
  },
  {
   "cell_type": "code",
   "execution_count": 13,
   "metadata": {},
   "outputs": [],
   "source": [
    "def tabelafreq(dataset, index):\n",
    "    tabela = {} \n",
    "    total = 0\n",
    "    \n",
    "    for app in dataset:\n",
    "        total += 1\n",
    "        valor = app[index]\n",
    "        if valor in tabela:\n",
    "            tabela[valor] += 1\n",
    "        else:\n",
    "            tabela[valor] = 1\n",
    "    \n",
    "    tabela_porcentagem = {}\n",
    "    for chave in tabela:\n",
    "        porcentagem = (tabela[chave] / total) * 100\n",
    "        tabela_porcentagem[chave] = porcentagem\n",
    "    \n",
    "    return tabela_porcentagem\n",
    "            "
   ]
  },
  {
   "cell_type": "markdown",
   "metadata": {},
   "source": [
    "4.1.2 colocar a tabela criada via dicionário em ordem decrescente para visualizar com maior clareza os gêneros mais comuns:\n",
    "- transformo o dicionário em tupla;\n",
    "- uso a função sorted() para colocar em ordem crescente;\n",
    "- uso o reverse para colocar em ordem decrescente."
   ]
  },
  {
   "cell_type": "code",
   "execution_count": 14,
   "metadata": {},
   "outputs": [],
   "source": [
    "def tabela_decresente(dataset, index):\n",
    "    tabela = tabelafreq(dataset, index)\n",
    "    tabela_tupla = []\n",
    "    for chave in tabela:\n",
    "        chave_val_tupla = (tabela[chave], chave)\n",
    "        tabela_tupla.append(chave_val_tupla)\n",
    "\n",
    "    tabela_sorted = sorted(tabela_tupla, reverse = True)\n",
    "    for e in tabela_sorted:\n",
    "        print(e[1], ':', e[0])"
   ]
  },
  {
   "cell_type": "code",
   "execution_count": 15,
   "metadata": {},
   "outputs": [
    {
     "name": "stdout",
     "output_type": "stream",
     "text": [
      "Games : 58.16263190564867\n",
      "Entertainment : 7.883302296710118\n",
      "Photo & Video : 4.9658597144630665\n",
      "Education : 3.662321539416512\n",
      "Social Networking : 3.2898820608317814\n",
      "Shopping : 2.60707635009311\n",
      "Utilities : 2.5139664804469275\n",
      "Sports : 2.1415270018621975\n",
      "Music : 2.0484171322160147\n",
      "Health & Fitness : 2.0173805090006205\n",
      "Productivity : 1.7380509000620732\n",
      "Lifestyle : 1.5828677839851024\n",
      "News : 1.3345747982619491\n",
      "Travel : 1.2414649286157666\n",
      "Finance : 1.1173184357541899\n",
      "Weather : 0.8690254500310366\n",
      "Food & Drink : 0.8069522036002483\n",
      "Reference : 0.5586592178770949\n",
      "Business : 0.5276225946617008\n",
      "Book : 0.4345127250155183\n",
      "Navigation : 0.186219739292365\n",
      "Medical : 0.186219739292365\n",
      "Catalogs : 0.12414649286157665\n",
      "None\n",
      "\n",
      "\n",
      "FAMILY : 18.907942238267147\n",
      "GAME : 9.724729241877256\n",
      "TOOLS : 8.461191335740072\n",
      "BUSINESS : 4.591606498194946\n",
      "LIFESTYLE : 3.9034296028880866\n",
      "PRODUCTIVITY : 3.892148014440433\n",
      "FINANCE : 3.7003610108303246\n",
      "MEDICAL : 3.531137184115524\n",
      "SPORTS : 3.395758122743682\n",
      "PERSONALIZATION : 3.3167870036101084\n",
      "COMMUNICATION : 3.2378158844765346\n",
      "HEALTH_AND_FITNESS : 3.0798736462093865\n",
      "PHOTOGRAPHY : 2.944494584837545\n",
      "NEWS_AND_MAGAZINES : 2.7978339350180503\n",
      "SOCIAL : 2.6624548736462095\n",
      "TRAVEL_AND_LOCAL : 2.33528880866426\n",
      "SHOPPING : 2.2450361010830324\n",
      "BOOKS_AND_REFERENCE : 2.1435018050541514\n",
      "DATING : 1.861462093862816\n",
      "VIDEO_PLAYERS : 1.7937725631768955\n",
      "MAPS_AND_NAVIGATION : 1.3989169675090252\n",
      "FOOD_AND_DRINK : 1.2409747292418771\n",
      "EDUCATION : 1.1620036101083033\n",
      "ENTERTAINMENT : 0.9589350180505415\n",
      "LIBRARIES_AND_DEMO : 0.9363718411552346\n",
      "AUTO_AND_VEHICLES : 0.9250902527075812\n",
      "HOUSE_AND_HOME : 0.8235559566787004\n",
      "WEATHER : 0.8009927797833934\n",
      "EVENTS : 0.7107400722021661\n",
      "PARENTING : 0.6543321299638989\n",
      "ART_AND_DESIGN : 0.6430505415162455\n",
      "COMICS : 0.6204873646209386\n",
      "BEAUTY : 0.5979241877256317\n",
      "None\n",
      "\n",
      "\n",
      "Tools : 8.449909747292418\n",
      "Entertainment : 6.069494584837545\n",
      "Education : 5.347472924187725\n",
      "Business : 4.591606498194946\n",
      "Productivity : 3.892148014440433\n",
      "Lifestyle : 3.892148014440433\n",
      "Finance : 3.7003610108303246\n",
      "Medical : 3.531137184115524\n",
      "Sports : 3.463447653429603\n",
      "Personalization : 3.3167870036101084\n",
      "Communication : 3.2378158844765346\n",
      "Action : 3.1024368231046933\n",
      "Health & Fitness : 3.0798736462093865\n",
      "Photography : 2.944494584837545\n",
      "News & Magazines : 2.7978339350180503\n",
      "Social : 2.6624548736462095\n",
      "Travel & Local : 2.3240072202166067\n",
      "Shopping : 2.2450361010830324\n",
      "Books & Reference : 2.1435018050541514\n",
      "Simulation : 2.0419675090252705\n",
      "Dating : 1.861462093862816\n",
      "Arcade : 1.8501805054151623\n",
      "Video Players & Editors : 1.7712093862815883\n",
      "Casual : 1.7599277978339352\n",
      "Maps & Navigation : 1.3989169675090252\n",
      "Food & Drink : 1.2409747292418771\n",
      "Puzzle : 1.128158844765343\n",
      "Racing : 0.9927797833935018\n",
      "Role Playing : 0.9363718411552346\n",
      "Libraries & Demo : 0.9363718411552346\n",
      "Auto & Vehicles : 0.9250902527075812\n",
      "Strategy : 0.9138086642599278\n",
      "House & Home : 0.8235559566787004\n",
      "Weather : 0.8009927797833934\n",
      "Events : 0.7107400722021661\n",
      "Adventure : 0.6768953068592057\n",
      "Comics : 0.6092057761732852\n",
      "Beauty : 0.5979241877256317\n",
      "Art & Design : 0.5979241877256317\n",
      "Parenting : 0.4963898916967509\n",
      "Card : 0.45126353790613716\n",
      "Casino : 0.42870036101083037\n",
      "Trivia : 0.41741877256317694\n",
      "Educational;Education : 0.39485559566787\n",
      "Board : 0.3835740072202166\n",
      "Educational : 0.3722924187725632\n",
      "Education;Education : 0.33844765342960287\n",
      "Word : 0.2594765342960289\n",
      "Casual;Pretend Play : 0.236913357400722\n",
      "Music : 0.2030685920577617\n",
      "Racing;Action & Adventure : 0.16922382671480143\n",
      "Puzzle;Brain Games : 0.16922382671480143\n",
      "Entertainment;Music & Video : 0.16922382671480143\n",
      "Casual;Brain Games : 0.13537906137184114\n",
      "Casual;Action & Adventure : 0.13537906137184114\n",
      "Arcade;Action & Adventure : 0.12409747292418773\n",
      "Action;Action & Adventure : 0.10153429602888085\n",
      "Educational;Pretend Play : 0.09025270758122744\n",
      "Simulation;Action & Adventure : 0.078971119133574\n",
      "Parenting;Education : 0.078971119133574\n",
      "Entertainment;Brain Games : 0.078971119133574\n",
      "Board;Brain Games : 0.078971119133574\n",
      "Parenting;Music & Video : 0.06768953068592057\n",
      "Educational;Brain Games : 0.06768953068592057\n",
      "Casual;Creativity : 0.06768953068592057\n",
      "Art & Design;Creativity : 0.06768953068592057\n",
      "Education;Pretend Play : 0.056407942238267145\n",
      "Role Playing;Pretend Play : 0.04512635379061372\n",
      "Education;Creativity : 0.04512635379061372\n",
      "Role Playing;Action & Adventure : 0.033844765342960284\n",
      "Puzzle;Action & Adventure : 0.033844765342960284\n",
      "Entertainment;Creativity : 0.033844765342960284\n",
      "Entertainment;Action & Adventure : 0.033844765342960284\n",
      "Educational;Creativity : 0.033844765342960284\n",
      "Educational;Action & Adventure : 0.033844765342960284\n",
      "Education;Music & Video : 0.033844765342960284\n",
      "Education;Brain Games : 0.033844765342960284\n",
      "Education;Action & Adventure : 0.033844765342960284\n",
      "Adventure;Action & Adventure : 0.033844765342960284\n",
      "Video Players & Editors;Music & Video : 0.02256317689530686\n",
      "Sports;Action & Adventure : 0.02256317689530686\n",
      "Simulation;Pretend Play : 0.02256317689530686\n",
      "Puzzle;Creativity : 0.02256317689530686\n",
      "Music;Music & Video : 0.02256317689530686\n",
      "Entertainment;Pretend Play : 0.02256317689530686\n",
      "Casual;Education : 0.02256317689530686\n",
      "Board;Action & Adventure : 0.02256317689530686\n",
      "Video Players & Editors;Creativity : 0.01128158844765343\n",
      "Trivia;Education : 0.01128158844765343\n",
      "Travel & Local;Action & Adventure : 0.01128158844765343\n",
      "Tools;Education : 0.01128158844765343\n",
      "Strategy;Education : 0.01128158844765343\n",
      "Strategy;Creativity : 0.01128158844765343\n",
      "Strategy;Action & Adventure : 0.01128158844765343\n",
      "Simulation;Education : 0.01128158844765343\n",
      "Role Playing;Brain Games : 0.01128158844765343\n",
      "Racing;Pretend Play : 0.01128158844765343\n",
      "Puzzle;Education : 0.01128158844765343\n",
      "Parenting;Brain Games : 0.01128158844765343\n",
      "Music & Audio;Music & Video : 0.01128158844765343\n",
      "Lifestyle;Pretend Play : 0.01128158844765343\n",
      "Lifestyle;Education : 0.01128158844765343\n",
      "Health & Fitness;Education : 0.01128158844765343\n",
      "Health & Fitness;Action & Adventure : 0.01128158844765343\n",
      "Entertainment;Education : 0.01128158844765343\n",
      "Communication;Creativity : 0.01128158844765343\n",
      "Comics;Creativity : 0.01128158844765343\n",
      "Casual;Music & Video : 0.01128158844765343\n",
      "Card;Action & Adventure : 0.01128158844765343\n",
      "Books & Reference;Education : 0.01128158844765343\n",
      "Art & Design;Pretend Play : 0.01128158844765343\n",
      "Art & Design;Action & Adventure : 0.01128158844765343\n",
      "Arcade;Pretend Play : 0.01128158844765343\n",
      "Adventure;Education : 0.01128158844765343\n",
      "None\n"
     ]
    }
   ],
   "source": [
    "#aplicando as funções nos mercados:\n",
    "\n",
    "print(tabela_decresente(ios_gratuito, 11))\n",
    "print('\\n')\n",
    "print(tabela_decresente(android_gratuito, 1))\n",
    "print('\\n')\n",
    "print(tabela_decresente(android_gratuito, 9))"
   ]
  },
  {
   "cell_type": "markdown",
   "metadata": {},
   "source": [
    "4.1.3 resultados parciais:\n",
    "\n",
    "App Store \n",
    "- o gênero mais comum é games com 58% e em segundo lugar entretenimento com aproximadamente 8%, seguido por aplicativos de foto e vídeo próximos a 5%. Apenas 3,7% dos aplicativos são para educação e 3,3% para redes sociais. \n",
    "- a impressão geral é que a App Store, dentro do escopo de análise, é dominada por aplicativos que são projetados para se divertir (jogos, entretenimento, foto e vídeo, redes sociais, esportes, música, etc.), enquanto aplicativos com propósitos práticos (educação, compras, serviços públicos, produtividade, estilo de vida, etc.) são mais raros. \n",
    "\n",
    "Google Play\n",
    "- O cenário parece significativamente diferente: não existem muitos aplicativos projetados para se divertir e parece que um bom número de aplicativos são projetados para fins práticos (família, ferramentas, negócios, estilo de vida, produtividade, etc.). No entanto, ao investigar mais a fundo, descobri que a categoria família (quase 19% dos aplicativos) são principalmente jogos para crianças.\n",
    "\n",
    "Conclusões parciais\n",
    "- aplicativos práticos parecem ter uma melhor representação na Google Play em comparação com a App Store, que é mais voltada ao entretenimento.\n",
    "- o fato de um gênero de apps ser mais numeroso não significa que eles tenham o maior número de usuários - a demanda pode não ser a mesma que a oferta.\n",
    "- portanto, não é possível recomendar um perfil de aplicativo apenas com essas informações. Ainda se faz necessário analisar a quantidade de usuários e descobrir quais gêneros têm mais usuários. "
   ]
  },
  {
   "cell_type": "markdown",
   "metadata": {},
   "source": [
    "4.2 *Aplicativos mais populares por gênero em cada mercado*\n",
    "\n",
    "para essa análise trabalharei com a média de instalações por gênero na Google play e na App Store o número de avaliações de usuários por gênero.\n",
    "\n",
    "4.2.1 App Store:"
   ]
  },
  {
   "cell_type": "code",
   "execution_count": 17,
   "metadata": {},
   "outputs": [
    {
     "name": "stdout",
     "output_type": "stream",
     "text": [
      "Social Networking : 71548.34905660378\n",
      "Photo & Video : 28441.54375\n",
      "Games : 22788.6696905016\n",
      "Music : 57326.530303030304\n",
      "Reference : 74942.11111111111\n",
      "Health & Fitness : 23298.015384615384\n",
      "Weather : 52279.892857142855\n",
      "Utilities : 18684.456790123455\n",
      "Travel : 28243.8\n",
      "Shopping : 26919.690476190477\n",
      "News : 21248.023255813954\n",
      "Navigation : 86090.33333333333\n",
      "Lifestyle : 16485.764705882353\n",
      "Entertainment : 14029.830708661417\n",
      "Food & Drink : 33333.92307692308\n",
      "Sports : 23008.898550724636\n",
      "Book : 39758.5\n",
      "Finance : 31467.944444444445\n",
      "Education : 7003.983050847458\n",
      "Productivity : 21028.410714285714\n",
      "Business : 7491.117647058823\n",
      "Catalogs : 4004.0\n",
      "Medical : 612.0\n"
     ]
    }
   ],
   "source": [
    "generos_ios = tabelafreq(ios_gratuito, 11)\n",
    "\n",
    "for genero in generos_ios:\n",
    "    total = 0\n",
    "    len_genero = 0\n",
    "    for app in ios_gratuito:\n",
    "        genero_app = app[11]\n",
    "        if genero_app == genero:\n",
    "            n_avaliacao = float(app[5])\n",
    "            total += n_avaliacao\n",
    "            len_genero += 1\n",
    "\n",
    "    media_ios = total / len_genero\n",
    "    print(genero, ':', media_ios)\n",
    "    "
   ]
  },
  {
   "cell_type": "markdown",
   "metadata": {},
   "source": [
    "*conclusões parciais:*\n",
    "- o gênero mais popular é o de navegação, seguido por referência, redes sociais e música.\n",
    "- todavia não recomendaria o perfil de navegação (waze e google maps), tampouco o de redes sociais (Facebook, Pinterest, Skype) pois sua média é fortemente influenciada por alguns gigantes como os acima citados. \n",
    "- sendo assim, minha recomendação seria um app no perfil de referência ou música, ou até quem sabe, algo que una música e referência. \n",
    "\n",
    "4.2.2 Google Play:\n",
    "\n",
    "o número de instalções aparece como 100+, 1,000+, 5,000+, etc. Sendo assim, para realizar os cálculos será preciso remover as vírgulas e os caracteres de adição para não gerar erro.\n"
   ]
  },
  {
   "cell_type": "code",
   "execution_count": 19,
   "metadata": {},
   "outputs": [
    {
     "name": "stdout",
     "output_type": "stream",
     "text": [
      "ART_AND_DESIGN : 1986335.0877192982\n",
      "AUTO_AND_VEHICLES : 647317.8170731707\n",
      "BEAUTY : 513151.88679245283\n",
      "BOOKS_AND_REFERENCE : 8767811.894736841\n",
      "BUSINESS : 1712290.1474201474\n",
      "COMICS : 817657.2727272727\n",
      "COMMUNICATION : 38456119.167247385\n",
      "DATING : 854028.8303030303\n",
      "EDUCATION : 1833495.145631068\n",
      "ENTERTAINMENT : 11640705.88235294\n",
      "EVENTS : 253542.22222222222\n",
      "FINANCE : 1387692.475609756\n",
      "FOOD_AND_DRINK : 1924897.7363636363\n",
      "HEALTH_AND_FITNESS : 4188821.9853479853\n",
      "HOUSE_AND_HOME : 1331540.5616438356\n",
      "LIBRARIES_AND_DEMO : 638503.734939759\n",
      "LIFESTYLE : 1437816.2687861272\n",
      "GAME : 15588015.603248259\n",
      "FAMILY : 3695641.8198090694\n",
      "MEDICAL : 120550.61980830671\n",
      "SOCIAL : 23253652.127118643\n",
      "SHOPPING : 7036877.311557789\n",
      "PHOTOGRAPHY : 17840110.40229885\n",
      "SPORTS : 3638640.1428571427\n",
      "TRAVEL_AND_LOCAL : 13984077.710144928\n",
      "TOOLS : 10801391.298666667\n",
      "PERSONALIZATION : 5201482.6122448975\n",
      "PRODUCTIVITY : 16787331.344927534\n",
      "PARENTING : 542603.6206896552\n",
      "WEATHER : 5074486.197183099\n",
      "VIDEO_PLAYERS : 24727872.452830188\n",
      "NEWS_AND_MAGAZINES : 9549178.467741935\n",
      "MAPS_AND_NAVIGATION : 4056941.7741935486\n"
     ]
    }
   ],
   "source": [
    "genero = tabelafreq(android_gratuito, 1)\n",
    "\n",
    "for categoria in genero:\n",
    "    total = 0\n",
    "    len_categoria = 0\n",
    "    for app in android_gratuito:\n",
    "        app_categoria = app[1]\n",
    "        if app_categoria == categoria:\n",
    "            n_instal = app[5]\n",
    "            n_instal = n_instal.replace('+', '')\n",
    "            n_instal = n_instal.replace(',', '')\n",
    "            total += float(n_instal)\n",
    "            len_categoria += 1\n",
    "    \n",
    "    media_android = total / len_categoria\n",
    "    print(categoria, ':', media_android)\n",
    "            "
   ]
  },
  {
   "cell_type": "markdown",
   "metadata": {},
   "source": [
    "*conclusões parciais:*\n",
    "\n",
    "- em média, os aplicativos de comunicação têm o maior número de instalações. Este número é fortemente distorcido por alguns aplicativos que têm mais de um bilhão de instalações (WhatsApp, Facebook Messenger, Skype, Google Chrome, Gmail e Hangouts). \n",
    "- o mesmo raciocínio se aplica para o segundo colocado, que são os players de vídeo como Youtube, Google Play Filmes e TV etc e o terceiro colocado, os apps sociais, como Facebook, Instagram, Google+, etc.\n",
    "- a principal preocupação é que esses gêneros de aplicativos possam parecer mais populares do que realmente são. Além disso, esses nichos parecem ser dominados por alguns gigantes contra os quais é difícil competir.\n",
    "- os livros e o gênero de referência também parecem bastante populares, com um número médio de instalações de 8.767.811. É interessante explorar isso com mais profundidade tendo em vista que é um gênero que também tem potencial para funcionar na App Store. \n",
    "- não foi encontrada uma categoria específica para música, esse perfil de aplicativo deve fazer parte dos apps de entretenimento, os quais aparecem com uma boa média. \n",
    "\n",
    "**Conclusão**\n",
    "\n",
    "como o objetivo era recomendar um gênero de app que mostra potencial para ser lucrativo tanto na App Store quanto no Google Play, recomenda-se aprofundar o estudo em torno das categorias de livros e referências, bem como de música. \n"
   ]
  },
  {
   "cell_type": "code",
   "execution_count": null,
   "metadata": {},
   "outputs": [],
   "source": []
  }
 ],
 "metadata": {
  "kernelspec": {
   "display_name": "Python 3",
   "language": "python",
   "name": "python3"
  },
  "language_info": {
   "codemirror_mode": {
    "name": "ipython",
    "version": 3
   },
   "file_extension": ".py",
   "mimetype": "text/x-python",
   "name": "python",
   "nbconvert_exporter": "python",
   "pygments_lexer": "ipython3",
   "version": "3.8.2"
  }
 },
 "nbformat": 4,
 "nbformat_minor": 2
}
